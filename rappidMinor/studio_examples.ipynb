{
 "cells": [
  {
   "cell_type": "markdown",
   "metadata": {},
   "source": [
    "# Tutorial for working with RapidMiner Studio\n",
    "\n",
    "In order to use this notebook you need to have the [rapidminer](https://github.com/rapidminer/python-rapidminer-beta) package installed in your current python environment. For installation instructions, consult the [README](https://github.com/rapidminer/python-rapidminer-beta#rapidminer-python-package---beta-version).\n"
   ]
  },
  {
   "cell_type": "markdown",
   "metadata": {},
   "source": [
    "### Connect to local Studio instance\n",
    "\n",
    "In order to connect set the `rm_home` variable to the installation directory of your RapidMiner Studio!"
   ]
  },
  {
   "cell_type": "code",
   "execution_count": 7,
   "metadata": {},
   "outputs": [],
   "source": [
    "import rapidminer\n",
    "import os\n",
    "rm_home=\"C:/Program Files/RapidMiner/RapidMiner Studio\"\n",
    "# If you don't want to see the log messages of the operations, use rm_stdout=open(os.devnull,\"w\")\n",
    "connector = rapidminer.Studio(rm_home, rm_stdout=None)"
   ]
  },
  {
   "cell_type": "markdown",
   "metadata": {},
   "source": [
    "### Reading ExampleSets"
   ]
  },
  {
   "cell_type": "code",
   "execution_count": 9,
   "metadata": {},
   "outputs": [
    {
     "name": "stdout",
     "output_type": "stream",
     "text": [
      "2023-02-24 14:41:55,912 [INFO -- studio]: RAPIDMINER_HOME environment variable is not set. Trying the directory 'C:\\Program Files\\RapidMiner\\RapidMiner Studio'...\n",
      "2023-02-24 14:41:55,915 [INFO -- studio]: Using local jre: C:\\Program Files\\RapidMiner\\RapidMiner Studio\\jre\\bin\\java.exe...\n",
      "2023-02-24 14:41:56,043 [INFO -- studio]: Java Version: 11.0.16\n",
      "2023-02-24 14:41:56,044 [INFO -- studio]: Gathering launch settings...\n",
      "2023-02-24 14:41:57,207 [INFO -- studio]: Done.\n",
      "2023-02-24 14:41:57,208 [INFO -- studio]: Launching RapidMiner Studio BATCH now...\n",
      "2023-02-24 14:41:57,323 [WARNING -- studio]: package com.apple.eawt not in java.desktop\n",
      "2023-02-24 14:41:57,325 [WARNING -- studio]: package sun.lwawt.macosx not in java.desktop\n",
      "2023-02-24 14:41:58,219 [WARNING -- studio]: An illegal reflective access operation has occurred\n",
      "2023-02-24 14:41:58,220 [WARNING -- studio]: Illegal reflective access by com.rapidminer.tools.ExtensibleResourceBundle (file:/C:/Program%20Files/RapidMiner/RapidMiner%20Studio/lib/rapidminer-studio-i18n-10.1.1.jar) to field java.util.ResourceBundle.parent\n",
      "2023-02-24 14:41:58,221 [WARNING -- studio]: Please consider reporting this to the maintainers of com.rapidminer.tools.ExtensibleResourceBundle\n",
      "2023-02-24 14:41:58,221 [WARNING -- studio]: Use --illegal-access=warn to enable warnings of further illegal reflective access operations\n",
      "2023-02-24 14:41:58,222 [WARNING -- studio]: All illegal access operations will be denied in a future release\n",
      "2023-02-24 14:41:58,278 [INFO -- studio]: Feb 24, 2023 2:41:58 PM com.rapidminer.tools.PlatformUtilities logInfo\n",
      "2023-02-24 14:41:58,280 [INFO -- studio]: Searching in Java classpath for RapidMiner Studio jars...\n",
      "2023-02-24 14:41:58,290 [INFO -- studio]: Feb 24, 2023 2:41:58 PM com.rapidminer.tools.PlatformUtilities logInfo\n",
      "2023-02-24 14:41:58,291 [INFO -- studio]: Trying parent directory of 'C:\\Program Files\\RapidMiner\\RapidMiner Studio\\lib\\rapidminer-studio-core-10.1.1.jar'...\n",
      "2023-02-24 14:41:58,293 [INFO -- studio]: Feb 24, 2023 2:41:58 PM com.rapidminer.tools.PlatformUtilities logInfo\n",
      "2023-02-24 14:41:58,295 [INFO -- studio]: Gotcha! 'rapidminer.home' is: C:\\Program Files\\RapidMiner\\RapidMiner Studio\n",
      "2023-02-24 14:41:58,297 [INFO -- studio]: Feb 24, 2023 2:41:58 PM com.rapidminer.tools.PlatformUtilities logInfo\n",
      "2023-02-24 14:41:58,298 [INFO -- studio]: Release platform: WIN64\n",
      "2023-02-24 14:41:59,814 [INFO -- studio]: RapidMiner Studio version 10.1.001, Copyright (C) 2001-2023 RapidMiner GmbH\n",
      "2023-02-24 14:41:59,816 [INFO -- studio]: See End User License Agreement information in the file named EULA.\n",
      "2023-02-24 14:41:59,850 [INFO -- studio]: Feb 24, 2023 2:41:59 PM com.rapidminer.tools.I18N setLocale\n",
      "2023-02-24 14:41:59,852 [INFO -- studio]: Setting locale.\n",
      "2023-02-24 14:41:59,854 [INFO -- studio]: Feb 24, 2023 2:41:59 PM com.rapidminer.tools.I18N setLocale\n",
      "2023-02-24 14:41:59,855 [INFO -- studio]: Using locale en.\n",
      "2023-02-24 14:42:00,528 [INFO -- studio]: Feb 24, 2023 2:42:00 PM com.rapidminer.tools.PlatformUtilities logInfo\n",
      "2023-02-24 14:42:00,530 [INFO -- studio]: rapidminer.home is 'C:\\Program Files\\RapidMiner\\RapidMiner Studio'.\n",
      "2023-02-24 14:42:09,806 [INFO -- studio]: Feb 24, 2023 2:42:09 PM com.rapidminer.core.license.ProductConstraintManager initialize\n",
      "2023-02-24 14:42:09,807 [INFO -- studio]: Initializing license manager.\n",
      "2023-02-24 14:42:09,808 [INFO -- studio]: Feb 24, 2023 2:42:09 PM com.rapidminer.core.license.ProductConstraintManager initialize\n",
      "2023-02-24 14:42:09,809 [INFO -- studio]: Using default license location.\n",
      "2023-02-24 14:42:09,809 [INFO -- studio]: Feb 24, 2023 2:42:09 PM com.rapidminer.core.license.ProductConstraintManager initialize\n",
      "2023-02-24 14:42:09,810 [INFO -- studio]: Registering default product.\n",
      "2023-02-24 14:42:10,005 [INFO -- studio]: Feb 24, 2023 2:42:10 PM com.rapidminer.repository.FileRepositoryProvider load\n",
      "2023-02-24 14:42:10,006 [WARNING -- studio]: Unknown tag: filesystemRepository\n",
      "2023-02-24 14:42:10,720 [INFO -- studio]: Feb 24, 2023 2:42:10 PM com.rapidminer.tools.plugin.Plugin registerPlugins\n",
      "2023-02-24 14:42:10,721 [INFO -- studio]: Register plugin: Python Scripting\n",
      "2023-02-24 14:42:10,987 [INFO -- studio]: Feb 24, 2023 2:42:10 PM com.rapidminer.tools.plugin.Plugin registerPlugins\n",
      "2023-02-24 14:42:10,988 [INFO -- studio]: Register plugin: Cloud Connectivity\n",
      "2023-02-24 14:42:10,989 [INFO -- studio]: Feb 24, 2023 2:42:10 PM com.rapidminer.tools.plugin.Plugin registerPlugins\n",
      "2023-02-24 14:42:10,989 [INFO -- studio]: Register plugin: Data Editor\n",
      "2023-02-24 14:42:10,990 [INFO -- studio]: Feb 24, 2023 2:42:10 PM com.rapidminer.tools.plugin.Plugin registerPlugins\n",
      "2023-02-24 14:42:10,990 [INFO -- studio]: Register plugin: H2O\n",
      "2023-02-24 14:42:10,992 [INFO -- studio]: Feb 24, 2023 2:42:10 PM com.rapidminer.tools.plugin.Plugin registerPlugins\n",
      "2023-02-24 14:42:10,992 [INFO -- studio]: Register plugin: Model Simulator\n",
      "2023-02-24 14:42:10,994 [INFO -- studio]: Feb 24, 2023 2:42:10 PM com.rapidminer.tools.plugin.Plugin registerPlugins\n",
      "2023-02-24 14:42:10,995 [INFO -- studio]: Register plugin: Operator Recommender\n",
      "2023-02-24 14:42:10,995 [INFO -- studio]: Feb 24, 2023 2:42:10 PM com.rapidminer.tools.plugin.Plugin registerPlugins\n",
      "2023-02-24 14:42:10,996 [INFO -- studio]: Register plugin: Process Scheduling\n",
      "2023-02-24 14:42:10,998 [INFO -- studio]: Feb 24, 2023 2:42:10 PM com.rapidminer.tools.plugin.Plugin registerPlugins\n",
      "2023-02-24 14:42:10,998 [INFO -- studio]: Register plugin: Advanced File Connectors\n",
      "2023-02-24 14:42:10,999 [INFO -- studio]: Feb 24, 2023 2:42:10 PM com.rapidminer.tools.plugin.Plugin registerPlugins\n",
      "2023-02-24 14:42:10,999 [INFO -- studio]: Register plugin: Blending\n",
      "2023-02-24 14:42:11,000 [INFO -- studio]: Feb 24, 2023 2:42:10 PM com.rapidminer.tools.plugin.Plugin registerPlugins\n",
      "2023-02-24 14:42:11,000 [INFO -- studio]: Register plugin: Browser\n",
      "2023-02-24 14:42:11,001 [INFO -- studio]: Feb 24, 2023 2:42:10 PM com.rapidminer.tools.plugin.Plugin registerPlugins\n",
      "2023-02-24 14:42:11,002 [INFO -- studio]: Register plugin: Concurrency\n",
      "2023-02-24 14:42:11,003 [INFO -- studio]: Feb 24, 2023 2:42:10 PM com.rapidminer.tools.plugin.Plugin registerPlugins\n",
      "2023-02-24 14:42:11,004 [INFO -- studio]: Register plugin: CTA\n",
      "2023-02-24 14:42:11,004 [INFO -- studio]: Feb 24, 2023 2:42:10 PM com.rapidminer.tools.plugin.Plugin registerPlugins\n",
      "2023-02-24 14:42:11,005 [INFO -- studio]: Register plugin: HTML5 Charts\n",
      "2023-02-24 14:42:11,006 [INFO -- studio]: Feb 24, 2023 2:42:10 PM com.rapidminer.tools.plugin.Plugin registerPlugins\n",
      "2023-02-24 14:42:11,007 [INFO -- studio]: Register plugin: JDBC Connectors\n",
      "2023-02-24 14:42:11,008 [INFO -- studio]: Feb 24, 2023 2:42:10 PM com.rapidminer.tools.plugin.Plugin registerPlugins\n",
      "2023-02-24 14:42:11,009 [INFO -- studio]: Register plugin: Legacy Result Access\n",
      "2023-02-24 14:42:11,010 [INFO -- studio]: Feb 24, 2023 2:42:10 PM com.rapidminer.tools.plugin.Plugin registerPlugins\n",
      "2023-02-24 14:42:11,010 [INFO -- studio]: Register plugin: Productivity\n",
      "2023-02-24 14:42:11,011 [INFO -- studio]: Feb 24, 2023 2:42:10 PM com.rapidminer.tools.plugin.Plugin registerPlugins\n",
      "2023-02-24 14:42:11,011 [INFO -- studio]: Register plugin: Professional\n",
      "2023-02-24 14:42:11,012 [INFO -- studio]: Feb 24, 2023 2:42:10 PM com.rapidminer.tools.plugin.Plugin registerPlugins\n",
      "2023-02-24 14:42:11,013 [INFO -- studio]: Register plugin: Remote Repository\n",
      "2023-02-24 14:42:11,014 [INFO -- studio]: Feb 24, 2023 2:42:10 PM com.rapidminer.tools.plugin.Plugin registerPlugins\n",
      "2023-02-24 14:42:11,015 [INFO -- studio]: Register plugin: Utility\n",
      "2023-02-24 14:42:11,016 [INFO -- studio]: Feb 24, 2023 2:42:10 PM com.rapidminer.tools.plugin.Plugin registerPlugins\n",
      "2023-02-24 14:42:11,017 [INFO -- studio]: Register plugin: Social Media\n",
      "2023-02-24 14:42:11,018 [INFO -- studio]: Feb 24, 2023 2:42:10 PM com.rapidminer.tools.plugin.Plugin registerPlugins\n",
      "2023-02-24 14:42:11,019 [INFO -- studio]: Register plugin: Time Series\n",
      "2023-02-24 14:42:12,982 [INFO -- studio]: Feb 24, 2023 2:42:12 PM com.rapidminer.tools.config.ConfigurationManager register\n",
      "2023-02-24 14:42:12,983 [WARNING -- studio]: Registered configurator Twitter Connection. Please update your extension to use the new connection framework!\n",
      "2023-02-24 14:42:17,469 [INFO -- studio]: Feb 24, 2023 2:42:17 PM com.rapidminer.tools.config.ConfigurationManager register\n",
      "2023-02-24 14:42:17,470 [WARNING -- studio]: Registered configurator Amazon S3 Connection. Please update your extension to use the new connection framework!\n",
      "2023-02-24 14:42:17,471 [INFO -- studio]: Feb 24, 2023 2:42:17 PM com.rapidminer.tools.config.ConfigurationManager register\n",
      "2023-02-24 14:42:17,472 [WARNING -- studio]: Registered configurator Azure Blob Storage Connection. Please update your extension to use the new connection framework!\n",
      "2023-02-24 14:42:17,473 [INFO -- studio]: Feb 24, 2023 2:42:17 PM com.rapidminer.tools.config.ConfigurationManager register\n",
      "2023-02-24 14:42:17,474 [WARNING -- studio]: Registered configurator Azure Data Lake Storage Gen1 Connection. Please update your extension to use the new connection framework!\n",
      "2023-02-24 14:42:17,474 [INFO -- studio]: Feb 24, 2023 2:42:17 PM com.rapidminer.tools.config.ConfigurationManager register\n",
      "2023-02-24 14:42:17,475 [WARNING -- studio]: Registered configurator gui.configurable.cloud.azure.gen2.name. Please update your extension to use the new connection framework!\n",
      "2023-02-24 14:42:17,476 [INFO -- studio]: Feb 24, 2023 2:42:17 PM com.rapidminer.tools.config.ConfigurationManager register\n",
      "2023-02-24 14:42:17,477 [WARNING -- studio]: Registered configurator Google Cloud Storage Connection. Please update your extension to use the new connection framework!\n",
      "2023-02-24 14:42:17,477 [INFO -- studio]: Feb 24, 2023 2:42:17 PM com.rapidminer.tools.config.ConfigurationManager register\n",
      "2023-02-24 14:42:17,478 [WARNING -- studio]: Registered configurator Dropbox Connection. Please update your extension to use the new connection framework!\n",
      "2023-02-24 14:42:21,065 [INFO -- studio]: Feb 24, 2023 2:42:21 PM com.rapidminer.extension.jdbc.tools.jdbc.JDBCProperties registerDrivers\n",
      "2023-02-24 14:42:21,066 [INFO -- studio]: JDBC driver net.sourceforge.jtds.jdbc.Driver not found. Probably the driver is not installed.\n",
      "2023-02-24 14:42:21,088 [INFO -- studio]: Feb 24, 2023 2:42:21 PM com.rapidminer.extension.jdbc.tools.jdbc.JDBCProperties <init>\n",
      "2023-02-24 14:42:21,088 [WARNING -- studio]: Missing database driver class name for ODBC Bridge (e.g. Access)\n",
      "2023-02-24 14:42:21,089 [INFO -- studio]: Feb 24, 2023 2:42:21 PM com.rapidminer.extension.jdbc.tools.jdbc.JDBCProperties <init>\n",
      "2023-02-24 14:42:21,091 [WARNING -- studio]: Missing database driver class name for Ingres\n",
      "2023-02-24 14:42:25,683 [INFO -- studio]: Feb 24, 2023 2:42:25 PM com.rapidminer.repository.RepositoryManager registerExtensionSamples\n",
      "2023-02-24 14:42:25,684 [INFO -- studio]: Registered 'Time Series' as sample folder.\n",
      "2023-02-24 14:42:28,443 [INFO -- studio]: Feb 24, 2023 2:42:28 PM com.rapidminer.tools.plugin.Plugin initAll\n",
      "2023-02-24 14:42:28,445 [INFO -- studio]: Extension Process Scheduling 10.0.0 was loaded in 572ms.\n",
      "2023-02-24 14:42:28,445 [INFO -- studio]: Feb 24, 2023 2:42:28 PM com.rapidminer.tools.plugin.Plugin initAll\n",
      "2023-02-24 14:42:28,447 [INFO -- studio]: Extension Utility 10.1.1 was loaded in 590ms.\n",
      "2023-02-24 14:42:28,448 [INFO -- studio]: Feb 24, 2023 2:42:28 PM com.rapidminer.tools.plugin.Plugin initAll\n",
      "2023-02-24 14:42:28,448 [INFO -- studio]: Extension Data Editor 10.0.0 was loaded in 595ms.\n",
      "2023-02-24 14:42:28,450 [INFO -- studio]: Feb 24, 2023 2:42:28 PM com.rapidminer.tools.plugin.Plugin initAll\n",
      "2023-02-24 14:42:28,450 [INFO -- studio]: Extension Operator Recommender 10.0.0 was loaded in 606ms.\n",
      "2023-02-24 14:42:28,451 [INFO -- studio]: Feb 24, 2023 2:42:28 PM com.rapidminer.tools.plugin.Plugin initAll\n",
      "2023-02-24 14:42:28,451 [INFO -- studio]: Extension Legacy Result Access 10.1.1 was loaded in 615ms.\n",
      "2023-02-24 14:42:28,452 [INFO -- studio]: Feb 24, 2023 2:42:28 PM com.rapidminer.tools.plugin.Plugin initAll\n",
      "2023-02-24 14:42:28,452 [INFO -- studio]: Extension Productivity 10.1.1 was loaded in 633ms.\n",
      "2023-02-24 14:42:28,454 [INFO -- studio]: Feb 24, 2023 2:42:28 PM com.rapidminer.tools.plugin.Plugin initAll\n",
      "2023-02-24 14:42:28,454 [INFO -- studio]: Extension Concurrency 10.1.1 was loaded in 634ms.\n",
      "2023-02-24 14:42:28,455 [INFO -- studio]: Feb 24, 2023 2:42:28 PM com.rapidminer.tools.plugin.Plugin initAll\n",
      "2023-02-24 14:42:28,456 [INFO -- studio]: Extension HTML5 Charts 10.1.1 was loaded in 697ms.\n",
      "2023-02-24 14:42:28,457 [INFO -- studio]: Feb 24, 2023 2:42:28 PM com.rapidminer.tools.plugin.Plugin initAll\n",
      "2023-02-24 14:42:28,457 [INFO -- studio]: Extension Social Media 10.0.0 was loaded in 702ms.\n",
      "2023-02-24 14:42:28,458 [INFO -- studio]: Feb 24, 2023 2:42:28 PM com.rapidminer.tools.plugin.Plugin initAll\n",
      "2023-02-24 14:42:28,459 [INFO -- studio]: Extension Time Series 10.1.0 was loaded in 703ms.\n",
      "2023-02-24 14:42:28,459 [INFO -- studio]: Feb 24, 2023 2:42:28 PM com.rapidminer.tools.plugin.Plugin initAll\n",
      "2023-02-24 14:42:28,461 [INFO -- studio]: Extension Advanced File Connectors 10.1.1 was loaded in 703ms.\n",
      "2023-02-24 14:42:28,462 [INFO -- studio]: Feb 24, 2023 2:42:28 PM com.rapidminer.tools.plugin.Plugin initAll\n",
      "2023-02-24 14:42:28,462 [INFO -- studio]: Extension Python Scripting 10.0.0 was loaded in 717ms.\n",
      "2023-02-24 14:42:28,463 [INFO -- studio]: Feb 24, 2023 2:42:28 PM com.rapidminer.tools.plugin.Plugin initAll\n",
      "2023-02-24 14:42:28,464 [INFO -- studio]: Extension Professional 10.1.1 was loaded in 739ms.\n",
      "2023-02-24 14:42:28,464 [INFO -- studio]: Feb 24, 2023 2:42:28 PM com.rapidminer.tools.plugin.Plugin initAll\n",
      "2023-02-24 14:42:28,465 [INFO -- studio]: Extension Blending 10.1.1 was loaded in 744ms.\n",
      "2023-02-24 14:42:28,466 [INFO -- studio]: Feb 24, 2023 2:42:28 PM com.rapidminer.tools.plugin.Plugin initAll\n",
      "2023-02-24 14:42:28,467 [INFO -- studio]: Extension CTA 10.1.1 was loaded in 812ms.\n",
      "2023-02-24 14:42:28,467 [INFO -- studio]: Feb 24, 2023 2:42:28 PM com.rapidminer.tools.plugin.Plugin initAll\n",
      "2023-02-24 14:42:28,468 [INFO -- studio]: Extension Model Simulator 10.0.0 was loaded in 827ms.\n",
      "2023-02-24 14:42:28,469 [INFO -- studio]: Feb 24, 2023 2:42:28 PM com.rapidminer.tools.plugin.Plugin initAll\n",
      "2023-02-24 14:42:28,469 [INFO -- studio]: Extension Browser 10.1.1 was loaded in 970ms.\n",
      "2023-02-24 14:42:28,469 [INFO -- studio]: Feb 24, 2023 2:42:28 PM com.rapidminer.tools.plugin.Plugin initAll\n",
      "2023-02-24 14:42:28,471 [INFO -- studio]: Extension Remote Repository 10.1.1 was loaded in 1043ms.\n",
      "2023-02-24 14:42:28,471 [INFO -- studio]: Feb 24, 2023 2:42:28 PM com.rapidminer.tools.plugin.Plugin initAll\n",
      "2023-02-24 14:42:28,472 [INFO -- studio]: Extension H2O 10.0.0 was loaded in 1051ms.\n",
      "2023-02-24 14:42:28,473 [INFO -- studio]: Feb 24, 2023 2:42:28 PM com.rapidminer.tools.plugin.Plugin initAll\n",
      "2023-02-24 14:42:28,475 [INFO -- studio]: Extension Cloud Connectivity 10.1.0 was loaded in 1588ms.\n",
      "2023-02-24 14:42:28,475 [INFO -- studio]: Feb 24, 2023 2:42:28 PM com.rapidminer.tools.plugin.Plugin initAll\n",
      "2023-02-24 14:42:28,476 [INFO -- studio]: Extension JDBC Connectors 10.1.1 was loaded in 1877ms.\n",
      "2023-02-24 14:43:12,259 [INFO -- studio]: SLF4J: No SLF4J providers were found.\n",
      "2023-02-24 14:43:12,260 [INFO -- studio]: SLF4J: Defaulting to no-operation (NOP) logger implementation\n",
      "2023-02-24 14:43:12,261 [INFO -- studio]: SLF4J: See http://www.slf4j.org/codes.html#noProviders for further details.\n",
      "2023-02-24 14:43:12,380 [INFO -- studio]: Feb 24, 2023 2:43:12 PM com.rapidminer.tools.config.ClientConfigurationManager loadAllParameters\n",
      "2023-02-24 14:43:12,381 [INFO -- studio]: No configuration file found for Amazon S3 Connection\n",
      "2023-02-24 14:43:12,382 [INFO -- studio]: Feb 24, 2023 2:43:12 PM com.rapidminer.tools.config.ClientConfigurationManager loadAllParameters\n",
      "2023-02-24 14:43:12,384 [INFO -- studio]: No configuration file found for Azure Blob Storage Connection\n",
      "2023-02-24 14:43:12,385 [INFO -- studio]: Feb 24, 2023 2:43:12 PM com.rapidminer.tools.config.ClientConfigurationManager loadAllParameters\n",
      "2023-02-24 14:43:12,385 [INFO -- studio]: No configuration file found for Azure Data Lake Storage Gen1 Connection\n",
      "2023-02-24 14:43:12,386 [INFO -- studio]: Feb 24, 2023 2:43:12 PM com.rapidminer.tools.config.ClientConfigurationManager loadAllParameters\n",
      "2023-02-24 14:43:12,387 [INFO -- studio]: No configuration file found for gui.configurable.cloud.azure.gen2.name\n",
      "2023-02-24 14:43:12,389 [INFO -- studio]: Feb 24, 2023 2:43:12 PM com.rapidminer.tools.config.ClientConfigurationManager loadAllParameters\n",
      "2023-02-24 14:43:12,389 [INFO -- studio]: No configuration file found for Dropbox Connection\n",
      "2023-02-24 14:43:12,390 [INFO -- studio]: Feb 24, 2023 2:43:12 PM com.rapidminer.tools.config.ClientConfigurationManager loadAllParameters\n",
      "2023-02-24 14:43:12,391 [INFO -- studio]: No configuration file found for Google Cloud Storage Connection\n",
      "2023-02-24 14:43:12,392 [INFO -- studio]: Feb 24, 2023 2:43:12 PM com.rapidminer.tools.config.ClientConfigurationManager loadAllParameters\n",
      "2023-02-24 14:43:12,392 [INFO -- studio]: No configuration file found for Twitter Connection\n",
      "2023-02-24 14:43:12,463 [INFO -- studio]: RAPIDMINER_VERSION=10.0.0\n",
      "2023-02-24 14:43:13,087 [INFO -- studio]: Feb 24, 2023 2:43:13 PM com.rapidminer.extension.pythonscripting.launcher.ExtendedCmdLauncher convert\n",
      "2023-02-24 14:43:13,088 [INFO -- studio]: Converting 'repositorylocation://Samples/data/Iris' to 'file:C:\\Users\\Vivit\\AppData\\Local\\Temp\\rapidminer-scripting-output-765_ern3'...\n",
      "2023-02-24 14:43:13,184 [INFO -- studio]: Feb 24, 2023 2:43:13 PM com.rapidminer.extension.pythonscripting.launcher.ExtendedCmdLauncher convert\n",
      "2023-02-24 14:43:13,187 [INFO -- studio]: Converting 'repositorylocation://Samples/data/Iris' to 'file:C:\\Users\\Vivit\\AppData\\Local\\Temp\\rapidminer-scripting-output-765_ern3' was successful.\n",
      "The result is a pandas DataFrame:\n",
      "    a1   a2   a3   a4    id        label\n",
      "0  5.1  3.5  1.4  0.2  id_1  Iris-setosa\n",
      "1  4.9  3.0  1.4  0.2  id_2  Iris-setosa\n",
      "2  4.7  3.2  1.3  0.2  id_3  Iris-setosa\n",
      "3  4.6  3.1  1.5  0.2  id_4  Iris-setosa\n",
      "4  5.0  3.6  1.4  0.2  id_5  Iris-setosa\n"
     ]
    }
   ],
   "source": [
    "df = connector.read_resource(\"//Samples/data/Iris\")\n",
    "print(\"The result is a pandas DataFrame:\")\n",
    "print(df.head())"
   ]
  },
  {
   "cell_type": "markdown",
   "metadata": {},
   "source": [
    "The operation will launch a RapidMiner Studio instance in the background. This could take a few seconds. If you need to read multiple entries, you can speed up the operation by passing multiple repository paths to the method:"
   ]
  },
  {
   "cell_type": "code",
   "execution_count": null,
   "metadata": {},
   "outputs": [],
   "source": [
    "iris, deals, golf = connector.read_resource([\"//Samples/data/Iris\", \"//Samples/data/Deals\", \"//Samples/data/Golf\"])\n",
    "print(\"The result are pandas DataFrames\")\n",
    "print(iris.head(1))\n",
    "print(deals.head(1))\n",
    "print(golf.head(1))"
   ]
  },
  {
   "cell_type": "markdown",
   "metadata": {},
   "source": [
    "If you have repository files outside of a repository, you can read them as well: "
   ]
  },
  {
   "cell_type": "code",
   "execution_count": null,
   "metadata": {},
   "outputs": [],
   "source": [
    "# set the parameter to an existing .ioo file\n",
    "df = connector.read_resource(rapidminer.File(\"C:\\path\\to\\my\\data.ioo\"))"
   ]
  },
  {
   "cell_type": "markdown",
   "metadata": {},
   "source": [
    "You can specify repository locations, with the `rapidminer.RepositoryLocation` objects as well. (But this is not necessary, since string parameters are treated as repository locations.) In this example, we also increased the loglevel so that fewer entries are logged to the console."
   ]
  },
  {
   "cell_type": "code",
   "execution_count": null,
   "metadata": {},
   "outputs": [],
   "source": [
    "import logging\n",
    "connector.logger.setLevel(logging.WARNING)\n",
    "df = connector.read_resource(rapidminer.RepositoryLocation(name=\"//Samples/data/Iris\"))"
   ]
  },
  {
   "cell_type": "markdown",
   "metadata": {},
   "source": [
    "### Writing ExampleSets"
   ]
  },
  {
   "cell_type": "code",
   "execution_count": null,
   "metadata": {},
   "outputs": [],
   "source": [
    "import pandas\n",
    "from sklearn.datasets import load_iris\n",
    "\n",
    "sklearn_iris = load_iris()\n",
    "iris = pandas.DataFrame(sklearn_iris[\"data\"], columns=sklearn_iris[\"feature_names\"])\n",
    "iris[\"target\"] = sklearn_iris[\"target\"]"
   ]
  },
  {
   "cell_type": "code",
   "execution_count": null,
   "metadata": {},
   "outputs": [],
   "source": [
    "# set the parameter to the desired repository location\n",
    "connector.write_resource(iris, \"//Local Repository/data/Iris\")"
   ]
  },
  {
   "cell_type": "markdown",
   "metadata": {},
   "source": [
    "You can write multiple processes in the same method call as well:"
   ]
  },
  {
   "cell_type": "code",
   "execution_count": null,
   "metadata": {},
   "outputs": [],
   "source": [
    "from sklearn.datasets import load_wine\n",
    "sklearn_wine = load_wine()\n",
    "wine = pandas.DataFrame(sklearn_wine[\"data\"], columns=sklearn_wine[\"feature_names\"])\n",
    "wine[\"target\"] = sklearn_wine[\"target\"]\n",
    "# set the parameter to the desired repository locations\n",
    "connector.write_resource([iris, wine], [\"//Local Repository/data/Iris\", \"//Local Repository/data/Wine\"])"
   ]
  },
  {
   "cell_type": "markdown",
   "metadata": {},
   "source": [
    "As with reading resources, you can also write resources to regular files, outside any RapidMiner repository:"
   ]
  },
  {
   "cell_type": "code",
   "execution_count": null,
   "metadata": {},
   "outputs": [],
   "source": [
    "# set the parameter to the desired file\n",
    "connector.write_resource(iris, rapidminer.File(\"C:\\path\\to\\the\\output\\file.ioo\"))"
   ]
  },
  {
   "cell_type": "markdown",
   "metadata": {},
   "source": [
    "You can also save any python object, including pandas models, and use them later with the `read_resource` method:"
   ]
  },
  {
   "cell_type": "code",
   "execution_count": null,
   "metadata": {},
   "outputs": [],
   "source": [
    "from sklearn.tree import DecisionTreeClassifier\n",
    "clf = DecisionTreeClassifier(random_state=0)\n",
    "clf.fit(iris[sklearn_iris[\"feature_names\"]], iris[\"target\"])\n",
    "# set the parameter to the desired repository location\n",
    "connector.write_resource(clf, \"//Local Repository/data/IrisModel\")"
   ]
  },
  {
   "cell_type": "markdown",
   "metadata": {},
   "source": [
    "### Running a RapidMiner process\n",
    "You can simply start a process an get the results with one method:"
   ]
  },
  {
   "cell_type": "code",
   "execution_count": null,
   "metadata": {},
   "outputs": [],
   "source": [
    "normalized_iris = connector.run_process(\"//Samples/processes/02_Preprocessing/01_Normalization\")"
   ]
  },
  {
   "cell_type": "markdown",
   "metadata": {},
   "source": [
    "You can also define inputs, run only a single operator, define values for macros. For example:"
   ]
  },
  {
   "cell_type": "code",
   "execution_count": null,
   "metadata": {},
   "outputs": [],
   "source": [
    "import pandas\n",
    "from sklearn.datasets import load_wine\n",
    "sklearn_wine = load_wine()\n",
    "wine = pandas.DataFrame(sklearn_wine[\"data\"], columns=sklearn_wine[\"feature_names\"])\n",
    "wine[\"target\"] = sklearn_wine[\"target\"]\n",
    "wine[\"correlated1\"] = wine[\"alcohol\"]*2\n",
    "wine[\"correlated2\"] = wine[\"alcohol\"]+wine[\"magnesium\"]"
   ]
  },
  {
   "cell_type": "code",
   "execution_count": null,
   "metadata": {},
   "outputs": [],
   "source": [
    "normalized_wine, original = connector.run_process(\"//Samples/processes/04_Attributes/01_RemoveCorrelatedFeatures\", \n",
    "                                                  inputs=wine, \n",
    "                                                  operator=\"RemoveCorrelatedFeatures\")"
   ]
  }
 ],
 "metadata": {
  "language_info": {
   "codemirror_mode": {
    "name": "ipython",
    "version": 3
   },
   "file_extension": ".py",
   "mimetype": "text/x-python",
   "name": "python",
   "nbconvert_exporter": "python",
   "pygments_lexer": "ipython3",
   "version": "3.7.2"
  }
 },
 "nbformat": 4,
 "nbformat_minor": 2
}
